{
 "cells": [
  {
   "cell_type": "markdown",
   "id": "9851d46f",
   "metadata": {},
   "source": [
    "## Biblioteca Numpy"
   ]
  },
  {
   "cell_type": "markdown",
   "id": "5947fa66",
   "metadata": {},
   "source": [
    "\n",
    "\n",
    "Numpy é tão importante pelo fato dela ser projetada para ser muito eficaz com array de dados muito grandes.\n",
    "\n",
    "Todos os elemtenso em um ndarray sao do mesmo tipo\n",
    "\n"
   ]
  },
  {
   "cell_type": "code",
   "execution_count": 1,
   "id": "a3ba3b9d",
   "metadata": {},
   "outputs": [],
   "source": [
    "import numpy as np"
   ]
  },
  {
   "cell_type": "code",
   "execution_count": 3,
   "id": "2b8690b4",
   "metadata": {},
   "outputs": [
    {
     "data": {
      "text/plain": [
       "array([[0.60416626, 0.38194166, 0.74357656],\n",
       "       [0.69232663, 0.97419179, 0.4573681 ]])"
      ]
     },
     "execution_count": 3,
     "metadata": {},
     "output_type": "execute_result"
    }
   ],
   "source": [
    "# Gerar um NDArray 2x3 (duas listas com 3 elementos)\n",
    "dados = np.random.rand(2,3)\n",
    "dados"
   ]
  },
  {
   "cell_type": "code",
   "execution_count": 4,
   "id": "087edd52",
   "metadata": {},
   "outputs": [
    {
     "data": {
      "text/plain": [
       "dtype('float64')"
      ]
     },
     "execution_count": 4,
     "metadata": {},
     "output_type": "execute_result"
    }
   ],
   "source": [
    "# Tipo de array\n",
    "dados.dtype"
   ]
  },
  {
   "cell_type": "code",
   "execution_count": 5,
   "id": "55fc0463",
   "metadata": {},
   "outputs": [
    {
     "data": {
      "text/plain": [
       "(2, 3)"
      ]
     },
     "execution_count": 5,
     "metadata": {},
     "output_type": "execute_result"
    }
   ],
   "source": [
    "# Tamanho e quantidade de dimensoes\n",
    "dados.shape"
   ]
  },
  {
   "cell_type": "code",
   "execution_count": 8,
   "id": "d183f328",
   "metadata": {},
   "outputs": [
    {
     "data": {
      "text/plain": [
       "2"
      ]
     },
     "execution_count": 8,
     "metadata": {},
     "output_type": "execute_result"
    }
   ],
   "source": [
    "dados.ndim"
   ]
  },
  {
   "cell_type": "markdown",
   "id": "daf65a80",
   "metadata": {},
   "source": [
    "Criar ndarray usando a finçao array"
   ]
  },
  {
   "cell_type": "code",
   "execution_count": 9,
   "id": "b9918aef",
   "metadata": {},
   "outputs": [],
   "source": [
    "lista = [1,2,5,7,8,1.25]"
   ]
  },
  {
   "cell_type": "code",
   "execution_count": 11,
   "id": "29ba67e0",
   "metadata": {},
   "outputs": [
    {
     "data": {
      "text/plain": [
       "array([1.  , 2.  , 5.  , 7.  , 8.  , 1.25])"
      ]
     },
     "execution_count": 11,
     "metadata": {},
     "output_type": "execute_result"
    }
   ],
   "source": [
    "dados2 = np.array(lista)\n",
    "dados2"
   ]
  },
  {
   "cell_type": "markdown",
   "id": "4e7c0d0f",
   "metadata": {},
   "source": [
    "como contem um array na lista, todos os numeros quando passados para um ndarray seram floats, pois todos os elementos sao iguais num ndarray."
   ]
  },
  {
   "cell_type": "code",
   "execution_count": 12,
   "id": "2145f325",
   "metadata": {},
   "outputs": [],
   "source": [
    "lista2 = [[1,2,3,4],[4,3,2,1]]"
   ]
  },
  {
   "cell_type": "code",
   "execution_count": 13,
   "id": "5fc0f24b",
   "metadata": {},
   "outputs": [
    {
     "data": {
      "text/plain": [
       "array([[1, 2, 3, 4],\n",
       "       [4, 3, 2, 1]])"
      ]
     },
     "execution_count": 13,
     "metadata": {},
     "output_type": "execute_result"
    }
   ],
   "source": [
    "dados3 = np.array(lista2)\n",
    "dados3"
   ]
  },
  {
   "cell_type": "markdown",
   "id": "d7eacee3",
   "metadata": {},
   "source": [
    "já aqui todos os numero sao inteiros(int)"
   ]
  },
  {
   "cell_type": "markdown",
   "id": "0395bf1e",
   "metadata": {},
   "source": [
    "Outras maneiras de criar arrays"
   ]
  },
  {
   "cell_type": "code",
   "execution_count": null,
   "id": "938b291d",
   "metadata": {},
   "outputs": [
    {
     "data": {
      "text/plain": [
       "array([0., 0., 0., 0., 0., 0., 0., 0., 0., 0.])"
      ]
     },
     "execution_count": 14,
     "metadata": {},
     "output_type": "execute_result"
    }
   ],
   "source": [
    "# funçao de array todos zeros\n",
    "dadoszero= np.zeros(10)\n",
    "dadoszero"
   ]
  },
  {
   "cell_type": "code",
   "execution_count": 15,
   "id": "02465bf0",
   "metadata": {},
   "outputs": [
    {
     "data": {
      "text/plain": [
       "array([[0., 0., 0.],\n",
       "       [0., 0., 0.]])"
      ]
     },
     "execution_count": 15,
     "metadata": {},
     "output_type": "execute_result"
    }
   ],
   "source": [
    "dadoszero2 = np.zeros((2,3))\n",
    "dadoszero2"
   ]
  },
  {
   "cell_type": "code",
   "execution_count": 17,
   "id": "da2c82be",
   "metadata": {},
   "outputs": [
    {
     "data": {
      "text/plain": [
       "array([1., 1., 1., 1., 1.])"
      ]
     },
     "execution_count": 17,
     "metadata": {},
     "output_type": "execute_result"
    }
   ],
   "source": [
    "dadosum = np.ones(5)\n",
    "dadosum"
   ]
  },
  {
   "cell_type": "markdown",
   "id": "7284225b",
   "metadata": {},
   "source": [
    "criaçao de array com numeros 1\n"
   ]
  },
  {
   "cell_type": "code",
   "execution_count": 18,
   "id": "665ab90f",
   "metadata": {},
   "outputs": [
    {
     "data": {
      "text/plain": [
       "array([0, 1, 2, 3, 4, 5, 6, 7, 8, 9])"
      ]
     },
     "execution_count": 18,
     "metadata": {},
     "output_type": "execute_result"
    }
   ],
   "source": [
    "dadosseq = np.arange(10)\n",
    "dadosseq"
   ]
  },
  {
   "cell_type": "markdown",
   "id": "ccccfce9",
   "metadata": {},
   "source": [
    "Criando array com dados sequencias"
   ]
  },
  {
   "cell_type": "code",
   "execution_count": 20,
   "id": "25ae0997",
   "metadata": {},
   "outputs": [
    {
     "data": {
      "text/plain": [
       "array([ 0,  2,  4,  6,  8, 10, 12, 14, 16, 18])"
      ]
     },
     "execution_count": 20,
     "metadata": {},
     "output_type": "execute_result"
    }
   ],
   "source": [
    "# criando array com dados sequencias do 0 ao 20 com passo 2\n",
    "dadosseq2 = np.arange(0,20,2)\n",
    "dadosseq2"
   ]
  },
  {
   "cell_type": "code",
   "execution_count": null,
   "id": "572e4f6e",
   "metadata": {},
   "outputs": [
    {
     "ename": "TypeError",
     "evalue": "'numpy.dtypes.Int64DType' object is not callable",
     "output_type": "error",
     "traceback": [
      "\u001b[31m---------------------------------------------------------------------------\u001b[39m",
      "\u001b[31mTypeError\u001b[39m                                 Traceback (most recent call last)",
      "\u001b[36mCell\u001b[39m\u001b[36m \u001b[39m\u001b[32mIn[23]\u001b[39m\u001b[32m, line 1\u001b[39m\n\u001b[32m----> \u001b[39m\u001b[32m1\u001b[39m \u001b[43mdadosseq\u001b[49m\u001b[43m.\u001b[49m\u001b[43mdtype\u001b[49m\u001b[43m(\u001b[49m\u001b[43m)\u001b[49m\n",
      "\u001b[31mTypeError\u001b[39m: 'numpy.dtypes.Int64DType' object is not callable"
     ]
    }
   ],
   "source": [
    "dadosseq.dtype"
   ]
  },
  {
   "cell_type": "code",
   "execution_count": null,
   "id": "4a7e3554",
   "metadata": {},
   "outputs": [
    {
     "data": {
      "text/plain": [
       "array([0., 1., 2., 3., 4., 5., 6., 7., 8., 9.])"
      ]
     },
     "execution_count": 25,
     "metadata": {},
     "output_type": "execute_result"
    }
   ],
   "source": [
    "# Alterando o tipo de dados do array\n",
    "dadosseqf = dadosseq.astype(np.float64)\n",
    "dadosseqf"
   ]
  },
  {
   "cell_type": "markdown",
   "id": "58ed4794",
   "metadata": {},
   "source": [
    "Aritimetica com arrays\n"
   ]
  },
  {
   "cell_type": "code",
   "execution_count": 26,
   "id": "4a860228",
   "metadata": {},
   "outputs": [
    {
     "data": {
      "text/plain": [
       "array([[1, 2, 3],\n",
       "       [4, 5, 6]])"
      ]
     },
     "execution_count": 26,
     "metadata": {},
     "output_type": "execute_result"
    }
   ],
   "source": [
    "dados4 = np.array([[1,2,3],[4,5,6]])\n",
    "dados4"
   ]
  },
  {
   "cell_type": "code",
   "execution_count": 27,
   "id": "76eb5a12",
   "metadata": {},
   "outputs": [
    {
     "data": {
      "text/plain": [
       "array([[ 1,  4,  9],\n",
       "       [16, 25, 36]])"
      ]
     },
     "execution_count": 27,
     "metadata": {},
     "output_type": "execute_result"
    }
   ],
   "source": [
    "dados4 * dados4"
   ]
  },
  {
   "cell_type": "code",
   "execution_count": 28,
   "id": "3d51d1b9",
   "metadata": {},
   "outputs": [
    {
     "data": {
      "text/plain": [
       "array([[0, 0, 0],\n",
       "       [0, 0, 0]])"
      ]
     },
     "execution_count": 28,
     "metadata": {},
     "output_type": "execute_result"
    }
   ],
   "source": [
    "dados4-dados4"
   ]
  },
  {
   "cell_type": "code",
   "execution_count": 29,
   "id": "33edfeb7",
   "metadata": {},
   "outputs": [
    {
     "data": {
      "text/plain": [
       "array([[1.        , 0.5       , 0.33333333],\n",
       "       [0.25      , 0.2       , 0.16666667]])"
      ]
     },
     "execution_count": 29,
     "metadata": {},
     "output_type": "execute_result"
    }
   ],
   "source": [
    "1/dados4"
   ]
  },
  {
   "cell_type": "code",
   "execution_count": 31,
   "id": "5e9c95ea",
   "metadata": {},
   "outputs": [
    {
     "data": {
      "text/plain": [
       "array([[ 2,  4,  6],\n",
       "       [ 8, 10, 12]])"
      ]
     },
     "execution_count": 31,
     "metadata": {},
     "output_type": "execute_result"
    }
   ],
   "source": [
    "dados5 = dados4+dados4\n",
    "dados5"
   ]
  },
  {
   "cell_type": "code",
   "execution_count": 32,
   "id": "e31880ab",
   "metadata": {},
   "outputs": [
    {
     "data": {
      "text/plain": [
       "array([[1, 2, 3],\n",
       "       [4, 5, 6]])"
      ]
     },
     "execution_count": 32,
     "metadata": {},
     "output_type": "execute_result"
    }
   ],
   "source": [
    "dados4"
   ]
  },
  {
   "cell_type": "code",
   "execution_count": 33,
   "id": "e4715fc6",
   "metadata": {},
   "outputs": [
    {
     "data": {
      "text/plain": [
       "array([[ True,  True,  True],\n",
       "       [ True,  True,  True]])"
      ]
     },
     "execution_count": 33,
     "metadata": {},
     "output_type": "execute_result"
    }
   ],
   "source": [
    "dados5>dados4"
   ]
  },
  {
   "cell_type": "markdown",
   "id": "631c9c68",
   "metadata": {},
   "source": [
    "Indexação\n"
   ]
  },
  {
   "cell_type": "code",
   "execution_count": 34,
   "id": "9f60f0a7",
   "metadata": {},
   "outputs": [
    {
     "data": {
      "text/plain": [
       "array([0, 1, 2, 3, 4, 5, 6, 7, 8, 9])"
      ]
     },
     "execution_count": 34,
     "metadata": {},
     "output_type": "execute_result"
    }
   ],
   "source": [
    "dadosseq"
   ]
  },
  {
   "cell_type": "code",
   "execution_count": 35,
   "id": "dfb24a9d",
   "metadata": {},
   "outputs": [
    {
     "data": {
      "text/plain": [
       "np.int64(5)"
      ]
     },
     "execution_count": 35,
     "metadata": {},
     "output_type": "execute_result"
    }
   ],
   "source": [
    "dadosseq[5]"
   ]
  },
  {
   "cell_type": "markdown",
   "id": "bc04638a",
   "metadata": {},
   "source": [
    "---------"
   ]
  },
  {
   "cell_type": "code",
   "execution_count": 36,
   "id": "583da786",
   "metadata": {},
   "outputs": [
    {
     "data": {
      "text/plain": [
       "array([3, 4, 5])"
      ]
     },
     "execution_count": 36,
     "metadata": {},
     "output_type": "execute_result"
    }
   ],
   "source": [
    "dadosseq[3:6]"
   ]
  },
  {
   "cell_type": "code",
   "execution_count": 37,
   "id": "c2b5fa43",
   "metadata": {},
   "outputs": [],
   "source": [
    "dadosseq[3:6]=20"
   ]
  },
  {
   "cell_type": "code",
   "execution_count": 38,
   "id": "72c8f689",
   "metadata": {},
   "outputs": [
    {
     "data": {
      "text/plain": [
       "array([ 0,  1,  2, 20, 20, 20,  6,  7,  8,  9])"
      ]
     },
     "execution_count": 38,
     "metadata": {},
     "output_type": "execute_result"
    }
   ],
   "source": [
    "dadosseq"
   ]
  },
  {
   "cell_type": "code",
   "execution_count": 40,
   "id": "edbb7af0",
   "metadata": {},
   "outputs": [
    {
     "data": {
      "text/plain": [
       "array([ 2, 20])"
      ]
     },
     "execution_count": 40,
     "metadata": {},
     "output_type": "execute_result"
    }
   ],
   "source": [
    "fatiadados = dadosseq[2:4]\n",
    "fatiadados  "
   ]
  },
  {
   "cell_type": "code",
   "execution_count": 42,
   "id": "d90b0f13",
   "metadata": {},
   "outputs": [
    {
     "data": {
      "text/plain": [
       "array([   2, 2000])"
      ]
     },
     "execution_count": 42,
     "metadata": {},
     "output_type": "execute_result"
    }
   ],
   "source": [
    "fatiadados[1]=2000\n",
    "fatiadados"
   ]
  },
  {
   "cell_type": "code",
   "execution_count": 43,
   "id": "b97bb6fc",
   "metadata": {},
   "outputs": [
    {
     "data": {
      "text/plain": [
       "array([   0,    1,    2, 2000,   20,   20,    6,    7,    8,    9])"
      ]
     },
     "execution_count": 43,
     "metadata": {},
     "output_type": "execute_result"
    }
   ],
   "source": [
    "dadosseq"
   ]
  },
  {
   "cell_type": "code",
   "execution_count": 44,
   "id": "4ee135be",
   "metadata": {},
   "outputs": [
    {
     "data": {
      "text/plain": [
       "array([  0,   1, 333, 333,  20,  20,   6,   7,   8,   9])"
      ]
     },
     "execution_count": 44,
     "metadata": {},
     "output_type": "execute_result"
    }
   ],
   "source": [
    "fatiadados[:]=333\n",
    "dadosseq"
   ]
  },
  {
   "cell_type": "markdown",
   "id": "97e31914",
   "metadata": {},
   "source": [
    "Copiar dados\n"
   ]
  },
  {
   "cell_type": "code",
   "execution_count": 45,
   "id": "a1149e0c",
   "metadata": {},
   "outputs": [
    {
     "data": {
      "text/plain": [
       "array([333, 333])"
      ]
     },
     "execution_count": 45,
     "metadata": {},
     "output_type": "execute_result"
    }
   ],
   "source": [
    "fatia2 =dadosseq[2:4].copy()\n",
    "fatia2"
   ]
  },
  {
   "cell_type": "code",
   "execution_count": 46,
   "id": "e07478b3",
   "metadata": {},
   "outputs": [
    {
     "data": {
      "text/plain": [
       "array([111, 111])"
      ]
     },
     "execution_count": 46,
     "metadata": {},
     "output_type": "execute_result"
    }
   ],
   "source": [
    "fatia2[:]=111\n",
    "fatia2"
   ]
  },
  {
   "cell_type": "code",
   "execution_count": 47,
   "id": "b1873ffc",
   "metadata": {},
   "outputs": [
    {
     "data": {
      "text/plain": [
       "array([  0,   1, 333, 333,  20,  20,   6,   7,   8,   9])"
      ]
     },
     "execution_count": 47,
     "metadata": {},
     "output_type": "execute_result"
    }
   ],
   "source": [
    "dadosseq"
   ]
  },
  {
   "cell_type": "markdown",
   "id": "38f8d118",
   "metadata": {},
   "source": [
    "Array com mais de uam dimensão"
   ]
  },
  {
   "cell_type": "code",
   "execution_count": 49,
   "id": "86419062",
   "metadata": {},
   "outputs": [
    {
     "data": {
      "text/plain": [
       "array([[1, 2, 3],\n",
       "       [4, 5, 6],\n",
       "       [7, 8, 9]])"
      ]
     },
     "execution_count": 49,
     "metadata": {},
     "output_type": "execute_result"
    }
   ],
   "source": [
    "dados6 = np.array([[1,2,3],[4,5,6],[7,8,9]])\n",
    "dados6\n"
   ]
  },
  {
   "cell_type": "code",
   "execution_count": 51,
   "id": "c7cce4c1",
   "metadata": {},
   "outputs": [
    {
     "data": {
      "text/plain": [
       "np.int64(6)"
      ]
     },
     "execution_count": 51,
     "metadata": {},
     "output_type": "execute_result"
    }
   ],
   "source": [
    "dados6[1,2]"
   ]
  },
  {
   "cell_type": "markdown",
   "id": "520dc999",
   "metadata": {},
   "source": [
    "nota-se que o numero que aparece nessa busca é o 6, pos esta na linha 1 e na coluna 2"
   ]
  },
  {
   "cell_type": "markdown",
   "id": "0e703828",
   "metadata": {},
   "source": [
    "Mascaras"
   ]
  },
  {
   "cell_type": "code",
   "execution_count": 52,
   "id": "919e5e37",
   "metadata": {},
   "outputs": [
    {
     "data": {
      "text/plain": [
       "array([  0,   1, 333, 333,  20,  20,   6,   7,   8,   9])"
      ]
     },
     "execution_count": 52,
     "metadata": {},
     "output_type": "execute_result"
    }
   ],
   "source": [
    "dadosseq"
   ]
  },
  {
   "cell_type": "code",
   "execution_count": 54,
   "metadata": {},
   "outputs": [
    {
     "data": {
      "text/plain": [
       "array([ True,  True, False, False,  True,  True,  True,  True,  True,\n",
       "        True])"
      ]
     },
     "execution_count": 54,
     "metadata": {},
     "output_type": "execute_result"
    }
   ],
   "source": [
    "mascara = (dadosseq<100)\n",
    "mascara"
   ]
  },
  {
   "cell_type": "markdown",
   "id": "b7e0566d",
   "metadata": {},
   "source": [
    "gerar uma comparação(resposta em booleano, TRUE ou FAlSE)"
   ]
  },
  {
   "cell_type": "code",
   "execution_count": 55,
   "id": "af4bdd96",
   "metadata": {},
   "outputs": [
    {
     "data": {
      "text/plain": [
       "array([888, 888, 333, 333,  20,  20, 888, 888, 888, 888])"
      ]
     },
     "execution_count": 55,
     "metadata": {},
     "output_type": "execute_result"
    }
   ],
   "source": [
    "dadosseq[dadosseq<20]=888\n",
    "dadosseq"
   ]
  },
  {
   "cell_type": "markdown",
   "id": "903a8512",
   "metadata": {},
   "source": [
    "atribuindo o valor 888 aos valores que são menores que 20"
   ]
  },
  {
   "cell_type": "markdown",
   "id": "61fa9b3e",
   "metadata": {},
   "source": [
    "Transposição"
   ]
  },
  {
   "cell_type": "code",
   "execution_count": null,
   "id": "bbd3768e",
   "metadata": {},
   "outputs": [],
   "source": [
    "dados7 = np.arange(15).reshape((3,5))\n",
    "\n",
    "# O reshepe reorganiza o array, nesse exempplo para 3 listas com 5 intens em cada"
   ]
  },
  {
   "cell_type": "code",
   "execution_count": 62,
   "id": "2877cdd4",
   "metadata": {},
   "outputs": [
    {
     "data": {
      "text/plain": [
       "array([[ 0,  1,  2,  3,  4],\n",
       "       [ 5,  6,  7,  8,  9],\n",
       "       [10, 11, 12, 13, 14]])"
      ]
     },
     "execution_count": 62,
     "metadata": {},
     "output_type": "execute_result"
    }
   ],
   "source": [
    "dados7"
   ]
  },
  {
   "cell_type": "code",
   "execution_count": 58,
   "id": "38ab16e3",
   "metadata": {},
   "outputs": [
    {
     "data": {
      "text/plain": [
       "array([[ 0,  5, 10],\n",
       "       [ 1,  6, 11],\n",
       "       [ 2,  7, 12],\n",
       "       [ 3,  8, 13],\n",
       "       [ 4,  9, 14]])"
      ]
     },
     "execution_count": 58,
     "metadata": {},
     "output_type": "execute_result"
    }
   ],
   "source": [
    "dados7.T"
   ]
  },
  {
   "cell_type": "markdown",
   "id": "e1344a53",
   "metadata": {},
   "source": [
    "Tranposição dos numeros dentro do array"
   ]
  },
  {
   "cell_type": "markdown",
   "id": "79db3163",
   "metadata": {},
   "source": [
    "Multiplicação de Matrizes com Dots"
   ]
  },
  {
   "cell_type": "code",
   "execution_count": 63,
   "id": "9bc84891",
   "metadata": {},
   "outputs": [
    {
     "data": {
      "text/plain": [
       "array([[125, 140, 155, 170, 185],\n",
       "       [140, 158, 176, 194, 212],\n",
       "       [155, 176, 197, 218, 239],\n",
       "       [170, 194, 218, 242, 266],\n",
       "       [185, 212, 239, 266, 293]])"
      ]
     },
     "execution_count": 63,
     "metadata": {},
     "output_type": "execute_result"
    }
   ],
   "source": [
    "np.dot(dados7.T,dados7)"
   ]
  },
  {
   "cell_type": "code",
   "execution_count": null,
   "id": "e55a8f4b",
   "metadata": {},
   "outputs": [],
   "source": []
  }
 ],
 "metadata": {
  "kernelspec": {
   "display_name": "Python 3",
   "language": "python",
   "name": "python3"
  },
  "language_info": {
   "codemirror_mode": {
    "name": "ipython",
    "version": 3
   },
   "file_extension": ".py",
   "mimetype": "text/x-python",
   "name": "python",
   "nbconvert_exporter": "python",
   "pygments_lexer": "ipython3",
   "version": "3.13.3"
  }
 },
 "nbformat": 4,
 "nbformat_minor": 5
}
