{
 "cells": [
  {
   "cell_type": "code",
   "execution_count": 2,
   "id": "b387b17c",
   "metadata": {},
   "outputs": [],
   "source": [
    "import matplotlib.pyplot as plt"
   ]
  },
  {
   "cell_type": "code",
   "execution_count": 22,
   "id": "c7c50a9a",
   "metadata": {},
   "outputs": [
    {
     "name": "stderr",
     "output_type": "stream",
     "text": [
      "C:\\Users\\Lucas\\AppData\\Local\\Temp\\ipykernel_14300\\3966075427.py:11: UserWarning: No artists with labels found to put in legend.  Note that artists whose label start with an underscore are ignored when legend() is called with no argument.\n",
      "  plt.legend()\n"
     ]
    },
    {
     "data": {
      "text/plain": [
       "<matplotlib.legend.Legend at 0x2fb9f02d090>"
      ]
     },
     "execution_count": 22,
     "metadata": {},
     "output_type": "execute_result"
    },
    {
     "data": {
      "image/png": "[encoded data removed]",
      "text/plain": [
       "<Figure size 700x800 with 1 Axes>"
      ]
     },
     "metadata": {},
     "output_type": "display_data"
    }
   ],
   "source": [
    "# Graficos .scater()\n",
    "# documentaçao https://matplotlib.org/stable/api/_as_gen/matplotlib.pyplot.scatter.html\n",
    "x = [2,5,8,11,14,17]\n",
    "y = [1,2,3,4,5,6]\n",
    "\n",
    "\n",
    "plt.figure(figsize=(7,8))\n",
    "plt.scatter(x= x, y=y, color = 'k',marker='x')\n",
    "plt.title('Teste de Gráfico')\n",
    "plt.xlabel('Numeros')\n",
    "plt.legend()\n"
   ]
  },
  {
   "cell_type": "code",
   "execution_count": 26,
   "id": "a79cbe26",
   "metadata": {},
   "outputs": [
    {
     "data": {
      "text/html": [
       "<div>\n",
       "<style scoped>\n",
       "    .dataframe tbody tr th:only-of-type {\n",
       "        vertical-align: middle;\n",
       "    }\n",
       "\n",
       "    .dataframe tbody tr th {\n",
       "        vertical-align: top;\n",
       "    }\n",
       "\n",
       "    .dataframe thead th {\n",
       "        text-align: right;\n",
       "    }\n",
       "</style>\n",
       "<table border=\"1\" class=\"dataframe\">\n",
       "  <thead>\n",
       "    <tr style=\"text-align: right;\">\n",
       "      <th></th>\n",
       "      <th>sex</th>\n",
       "      <th>region</th>\n",
       "      <th>children</th>\n",
       "      <th>smoker</th>\n",
       "      <th>charges</th>\n",
       "      <th>age</th>\n",
       "      <th>bmi</th>\n",
       "    </tr>\n",
       "  </thead>\n",
       "  <tbody>\n",
       "    <tr>\n",
       "      <th>0</th>\n",
       "      <td>female</td>\n",
       "      <td>north</td>\n",
       "      <td>2</td>\n",
       "      <td>no</td>\n",
       "      <td>16897.045721</td>\n",
       "      <td>61</td>\n",
       "      <td>25.498367</td>\n",
       "    </tr>\n",
       "    <tr>\n",
       "      <th>1</th>\n",
       "      <td>female</td>\n",
       "      <td>north</td>\n",
       "      <td>4</td>\n",
       "      <td>no</td>\n",
       "      <td>4406.059019</td>\n",
       "      <td>59</td>\n",
       "      <td>19.631100</td>\n",
       "    </tr>\n",
       "    <tr>\n",
       "      <th>2</th>\n",
       "      <td>male</td>\n",
       "      <td>west</td>\n",
       "      <td>3</td>\n",
       "      <td>no</td>\n",
       "      <td>22838.697334</td>\n",
       "      <td>61</td>\n",
       "      <td>20.209590</td>\n",
       "    </tr>\n",
       "    <tr>\n",
       "      <th>3</th>\n",
       "      <td>male</td>\n",
       "      <td>east</td>\n",
       "      <td>2</td>\n",
       "      <td>no</td>\n",
       "      <td>241.231982</td>\n",
       "      <td>46</td>\n",
       "      <td>42.061361</td>\n",
       "    </tr>\n",
       "    <tr>\n",
       "      <th>4</th>\n",
       "      <td>male</td>\n",
       "      <td>north</td>\n",
       "      <td>4</td>\n",
       "      <td>no</td>\n",
       "      <td>7348.782067</td>\n",
       "      <td>49</td>\n",
       "      <td>22.835177</td>\n",
       "    </tr>\n",
       "    <tr>\n",
       "      <th>...</th>\n",
       "      <td>...</td>\n",
       "      <td>...</td>\n",
       "      <td>...</td>\n",
       "      <td>...</td>\n",
       "      <td>...</td>\n",
       "      <td>...</td>\n",
       "      <td>...</td>\n",
       "    </tr>\n",
       "    <tr>\n",
       "      <th>95</th>\n",
       "      <td>male</td>\n",
       "      <td>east</td>\n",
       "      <td>3</td>\n",
       "      <td>yes</td>\n",
       "      <td>28243.923889</td>\n",
       "      <td>41</td>\n",
       "      <td>20.146342</td>\n",
       "    </tr>\n",
       "    <tr>\n",
       "      <th>96</th>\n",
       "      <td>female</td>\n",
       "      <td>east</td>\n",
       "      <td>2</td>\n",
       "      <td>yes</td>\n",
       "      <td>4582.479164</td>\n",
       "      <td>60</td>\n",
       "      <td>25.783648</td>\n",
       "    </tr>\n",
       "    <tr>\n",
       "      <th>97</th>\n",
       "      <td>male</td>\n",
       "      <td>south</td>\n",
       "      <td>2</td>\n",
       "      <td>no</td>\n",
       "      <td>6304.833054</td>\n",
       "      <td>40</td>\n",
       "      <td>26.506659</td>\n",
       "    </tr>\n",
       "    <tr>\n",
       "      <th>98</th>\n",
       "      <td>male</td>\n",
       "      <td>north</td>\n",
       "      <td>4</td>\n",
       "      <td>yes</td>\n",
       "      <td>16568.731576</td>\n",
       "      <td>32</td>\n",
       "      <td>24.523081</td>\n",
       "    </tr>\n",
       "    <tr>\n",
       "      <th>99</th>\n",
       "      <td>female</td>\n",
       "      <td>south</td>\n",
       "      <td>2</td>\n",
       "      <td>no</td>\n",
       "      <td>20736.526403</td>\n",
       "      <td>49</td>\n",
       "      <td>22.215386</td>\n",
       "    </tr>\n",
       "  </tbody>\n",
       "</table>\n",
       "<p>100 rows × 7 columns</p>\n",
       "</div>"
      ],
      "text/plain": [
       "       sex region  children smoker       charges  age        bmi\n",
       "0   female  north         2     no  16897.045721   61  25.498367\n",
       "1   female  north         4     no   4406.059019   59  19.631100\n",
       "2     male   west         3     no  22838.697334   61  20.209590\n",
       "3     male   east         2     no    241.231982   46  42.061361\n",
       "4     male  north         4     no   7348.782067   49  22.835177\n",
       "..     ...    ...       ...    ...           ...  ...        ...\n",
       "95    male   east         3    yes  28243.923889   41  20.146342\n",
       "96  female   east         2    yes   4582.479164   60  25.783648\n",
       "97    male  south         2     no   6304.833054   40  26.506659\n",
       "98    male  north         4    yes  16568.731576   32  24.523081\n",
       "99  female  south         2     no  20736.526403   49  22.215386\n",
       "\n",
       "[100 rows x 7 columns]"
      ]
     },
     "execution_count": 26,
     "metadata": {},
     "output_type": "execute_result"
    }
   ],
   "source": [
    "import pandas as pd\n",
    "import numpy as np\n",
    "\n",
    "df_saude"
   ]
  },
  {
   "cell_type": "code",
   "execution_count": 37,
   "id": "cb009578",
   "metadata": {},
   "outputs": [
    {
     "data": {
      "text/plain": [
       "<BarContainer object of 100 artists>"
      ]
     },
     "execution_count": 37,
     "metadata": {},
     "output_type": "execute_result"
    },
    {
     "data": {
      "image/png": "[encoded data removed]",
      "text/plain": [
       "<Figure size 1000x400 with 2 Axes>"
      ]
     },
     "metadata": {},
     "output_type": "display_data"
    }
   ],
   "source": [
    "fig, axs = plt.subplots(1,2,figsize=(10,4))\n",
    "contagem_fumante = df_saude['smoker'].count()\n",
    "axs[0].bar(df_saude['smoker'],contagem_fumante)"
   ]
  },
  {
   "cell_type": "code",
   "execution_count": null,
   "id": "ab76bbdd",
   "metadata": {},
   "outputs": [],
   "source": []
  }
 ],
 "metadata": {
  "kernelspec": {
   "display_name": "Python 3",
   "language": "python",
   "name": "python3"
  },
  "language_info": {
   "codemirror_mode": {
    "name": "ipython",
    "version": 3
   },
   "file_extension": ".py",
   "mimetype": "text/x-python",
   "name": "python",
   "nbconvert_exporter": "python",
   "pygments_lexer": "ipython3",
   "version": "3.13.3"
  }
 },
 "nbformat": 4,
 "nbformat_minor": 5
}
